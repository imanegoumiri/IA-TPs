{
 "cells": [
  {
   "cell_type": "code",
   "execution_count": 7,
   "id": "032a0c9c-2787-4239-9465-43bcdd77e280",
   "metadata": {},
   "outputs": [
    {
     "name": "stdin",
     "output_type": "stream",
     "text": [
      "Saisir la premiere note :  20\n",
      "Saisir la deuxieme note :  11\n",
      "Saisir la troisieme note :  10\n"
     ]
    },
    {
     "name": "stdout",
     "output_type": "stream",
     "text": [
      "Assez bien\n"
     ]
    }
   ],
   "source": [
    "def Moyenne(note1, note2, note3):\n",
    "    if note1 > 20 or note2 > 20 or note3 > 20:\n",
    "        print(\"Les notes doivent être comprises entre 0 et 20\")\n",
    "    else:\n",
    "        moyenne = (note1 + note2 + note3) / 3\n",
    "        if moyenne >= 16:\n",
    "            print(\"Très bien\")\n",
    "        elif moyenne >= 14:\n",
    "            print(\"Bien\")\n",
    "        elif moyenne >= 12:\n",
    "            print(\"Assez bien\")\n",
    "        elif moyenne >= 10:\n",
    "            print(\"Passable\")\n",
    "        else:\n",
    "            print(\"Insuffisant\")\n",
    "\n",
    "note1 = float(input(\"Saisir la premiere note : \"))\n",
    "note2 = float(input(\"Saisir la deuxieme note : \"))\n",
    "note3 = float(input(\"Saisir la troisieme note : \"))\n",
    "Moyenne(note1, note2, note3)\n"
   ]
  },
  {
   "cell_type": "code",
   "execution_count": 11,
   "id": "25fe0a4c-cd4b-4b63-a4d5-20bd4424177c",
   "metadata": {},
   "outputs": [
    {
     "name": "stdin",
     "output_type": "stream",
     "text": [
      "Saisir coeff 1 :  2\n",
      "Saisir coeff 2 :  3\n",
      "Saisir coeff 3 :  1\n"
     ]
    },
    {
     "name": "stdout",
     "output_type": "stream",
     "text": [
      "[-1.0, -0.5]\n"
     ]
    }
   ],
   "source": [
    "import math\n",
    "def SecondDegre(a, b, c):\n",
    "    delta = b**2 - 4*a*c\n",
    "    if delta > 0:\n",
    "        racine = math.sqrt(delta)\n",
    "        res = [(-b - racine) / (2*a), (-b + racine) / (2*a)]\n",
    "    elif delta < 0:\n",
    "        res = []  \n",
    "    else:\n",
    "        res = [-b / (2*a)] \n",
    "    return res\n",
    "\n",
    "a = float(input(\"Saisir coeff 1 : \"))\n",
    "b = float(input(\"Saisir coeff 2 : \"))\n",
    "c = float(input(\"Saisir coeff 3 : \"))\n",
    "print(SecondDegre(a, b, c))"
   ]
  },
  {
   "cell_type": "code",
   "execution_count": 2,
   "id": "3a0083ca-0f54-406a-aed4-feab03f7b49d",
   "metadata": {},
   "outputs": [
    {
     "name": "stdin",
     "output_type": "stream",
     "text": [
      "Saisir le temps en secondes :  9600\n"
     ]
    },
    {
     "name": "stdout",
     "output_type": "stream",
     "text": [
      "T = 9600 secondes = 2 heures 40 minutes 0 secondes.\n"
     ]
    }
   ],
   "source": [
    "def temps(T):\n",
    "    heures = T // 3600\n",
    "    sec = T % 3600\n",
    "    minutes = sec // 60\n",
    "    secondes = sec % 60\n",
    "    return heures, minutes, secondes\n",
    "\n",
    "T = int(input(\"Saisir le temps en secondes : \"))\n",
    "heures, minutes, secondes = temps(T)\n",
    "\n",
    "print(f\"T = {T} secondes = {heures} heures {minutes} minutes {secondes} secondes.\")\n"
   ]
  },
  {
   "cell_type": "code",
   "execution_count": 6,
   "id": "9866e431-7310-40db-a1e4-647952897b29",
   "metadata": {},
   "outputs": [
    {
     "name": "stdin",
     "output_type": "stream",
     "text": [
      "Saisir l'âge :  18\n",
      "Saisir sexe (homme/femme) :  femme\n"
     ]
    },
    {
     "name": "stdout",
     "output_type": "stream",
     "text": [
      "Payer l'impôt.\n"
     ]
    }
   ],
   "source": [
    "def impot(age, sexe):\n",
    "    if sexe == \"homme\" and age > 20:\n",
    "        print(\"Payer l'impôt.\")\n",
    "    elif sexe == \"femme\" and 18 <= age <= 35:\n",
    "        print(\"Payer l'impôt.\")\n",
    "    else:\n",
    "        print(\"Ne payer pas l'impôt.\")\n",
    "\n",
    "age = int(input(\"Saisir l'âge : \"))\n",
    "sexe = input(\"Saisir sexe (homme/femme) : \")\n",
    "\n",
    "impot(age, sexe)"
   ]
  },
  {
   "cell_type": "code",
   "execution_count": 7,
   "id": "ef7b8462-a499-4ad5-9a03-e085d4ea9a30",
   "metadata": {},
   "outputs": [
    {
     "name": "stdin",
     "output_type": "stream",
     "text": [
      "Saisir le premier nombre :  5\n",
      "Saisir le deuxième nombre :  5\n",
      "Saisir l'opérateur (+, -, *, /) :  *\n"
     ]
    },
    {
     "name": "stdout",
     "output_type": "stream",
     "text": [
      "5 * 5 = 25\n"
     ]
    }
   ],
   "source": [
    "def calcul(a, b, operateur):\n",
    "    if operateur == '+':\n",
    "        return a + b\n",
    "    elif operateur == '-':\n",
    "        return a - b\n",
    "    elif operateur == '*':\n",
    "        return a * b\n",
    "    elif operateur == '/':\n",
    "        if b != 0:  \n",
    "            return a / b\n",
    "        else:\n",
    "            return \"Erreur\"\n",
    "    else:\n",
    "        return \"Erreur\"\n",
    "\n",
    "nbr1 = int(input(\"Saisir le premier nombre : \"))\n",
    "nbr2 = int(input(\"Saisir le deuxième nombre : \"))\n",
    "operateur = input(\"Saisir l'opérateur (+, -, *, /) : \")\n",
    "\n",
    "res = calcul(nbr1, nbr2, operateur)\n",
    "print(f\"{nbr1} {operateur} {nbr2} = {res}\")\n"
   ]
  },
  {
   "cell_type": "code",
   "execution_count": 4,
   "id": "d3f10576-b933-4325-8c3d-7b7221af0d08",
   "metadata": {},
   "outputs": [
    {
     "name": "stdin",
     "output_type": "stream",
     "text": [
      "Saisir un nombre de départ :  3\n"
     ]
    },
    {
     "name": "stdout",
     "output_type": "stream",
     "text": [
      "Les dix nombres suivants sont :\n",
      "4\n",
      "5\n",
      "6\n",
      "7\n",
      "8\n",
      "9\n",
      "10\n",
      "11\n",
      "12\n",
      "13\n"
     ]
    }
   ],
   "source": [
    "nbr = int(input(\"Saisir un nombre de départ : \"))\n",
    "print(\"Les dix nombres suivants sont :\")\n",
    "for i in range(nbr + 1, nbr + 11):\n",
    "    print(i)\n"
   ]
  },
  {
   "cell_type": "code",
   "execution_count": 5,
   "id": "7580e48a-e605-434e-8974-d323787a547d",
   "metadata": {},
   "outputs": [
    {
     "name": "stdin",
     "output_type": "stream",
     "text": [
      "Saisir un nombre de départ :  2\n"
     ]
    },
    {
     "name": "stdout",
     "output_type": "stream",
     "text": [
      "Les dix nombres suivants sont :\n",
      "3\n",
      "4\n",
      "5\n",
      "6\n",
      "7\n",
      "8\n",
      "9\n",
      "10\n",
      "11\n",
      "12\n"
     ]
    }
   ],
   "source": [
    "nbr = int(input(\"Saisir un nombre de départ : \"))\n",
    "suivant = nbr + 1\n",
    "i = 0\n",
    "print(\"Les dix nombres suivants sont :\")\n",
    "while i < 10:\n",
    "    print(suivant)\n",
    "    suivant += 1\n",
    "    i += 1\n"
   ]
  },
  {
   "cell_type": "code",
   "execution_count": 8,
   "id": "c9de7478-445e-491c-a758-343d2177e59c",
   "metadata": {},
   "outputs": [
    {
     "name": "stdin",
     "output_type": "stream",
     "text": [
      "Saisir un nombre :  3\n"
     ]
    },
    {
     "name": "stdout",
     "output_type": "stream",
     "text": [
      "14\n"
     ]
    }
   ],
   "source": [
    "nbr = int(input(\"Saisir un nombre : \"))\n",
    "if nbr == \"\" :\n",
    "          print(\"Erreur\")\n",
    "def carre(nbr) : \n",
    "   res = 0\n",
    "   for i in range(1, nbr+1) :\n",
    "       res += i**2\n",
    "   return res \n",
    "print(carre(nbr))"
   ]
  },
  {
   "cell_type": "code",
   "execution_count": 7,
   "id": "082243de-2952-49c0-b217-465a322ea426",
   "metadata": {},
   "outputs": [
    {
     "name": "stdin",
     "output_type": "stream",
     "text": [
      "Saisir un nombre :  1\n"
     ]
    },
    {
     "name": "stdout",
     "output_type": "stream",
     "text": [
      "11\n"
     ]
    }
   ],
   "source": [
    "nbr = int(input(\"Saisir un nombre : \"))\n",
    "def somme(nbr) : \n",
    "   res = 0\n",
    "   for i in range(nbr+1) :\n",
    "       res += 10**i\n",
    "   return res \n",
    "print(somme(nbr))"
   ]
  },
  {
   "cell_type": "code",
   "execution_count": 9,
   "id": "44be349c-49eb-4b3f-8801-c6ee4c6776a3",
   "metadata": {},
   "outputs": [
    {
     "name": "stdin",
     "output_type": "stream",
     "text": [
      "Saisir un nombre entier :  6\n"
     ]
    },
    {
     "name": "stdout",
     "output_type": "stream",
     "text": [
      "6 est un nombre parfait.\n"
     ]
    }
   ],
   "source": [
    "def parfait(n):\n",
    "    somme = 0\n",
    "    for i in range(1, n):\n",
    "        if n % i == 0:\n",
    "            somme += i \n",
    "    return somme == n\n",
    "\n",
    "n = int(input(\"Saisir un nombre entier : \"))\n",
    "if parfait(n):\n",
    "    print(n, \"est un nombre parfait.\")\n",
    "else:\n",
    "    print(n, \"n'est pas un nombre parfait.\")"
   ]
  },
  {
   "cell_type": "code",
   "execution_count": 16,
   "id": "aefd4d9f-8e9b-4022-a78b-cfef4f41f0d0",
   "metadata": {},
   "outputs": [
    {
     "name": "stdout",
     "output_type": "stream",
     "text": [
      "Le tableau est trié dans un ordre croissant.\n"
     ]
    }
   ],
   "source": [
    "def est(tab):\n",
    "    for i in range(len(tab) - 1):\n",
    "        if tab[i] > tab[i + 1]:\n",
    "            return False\n",
    "    return True\n",
    "tab = [1, 2, 3, 4, 5, 8, 9, 11, 20, 22]\n",
    "if est(tab):\n",
    "    print(\"Le tableau est trié dans un ordre croissant.\")\n",
    "else:\n",
    "    print(\"Le tableau n'est pas trié dans un ordre croissant.\")"
   ]
  },
  {
   "cell_type": "code",
   "execution_count": 21,
   "id": "14c390f1-2f18-4ebc-821a-1ccd2f5c4dca",
   "metadata": {},
   "outputs": [
    {
     "name": "stdout",
     "output_type": "stream",
     "text": [
      "Le produit scalaire de a et b est : 19\n"
     ]
    }
   ],
   "source": [
    "def prod_sca(a, b): \n",
    "    if len(a) != len(b): \n",
    "        print(\"Les vecteurs n'ont pas la même taille.\")\n",
    "        return None\n",
    "    produit = 0 \n",
    "    for i in range(len(a)): \n",
    "        produit += a[i] * b[i]\n",
    "    return produit\n",
    "\n",
    "a = [2, 5, 3]\n",
    "b = [7, 1, 0]\n",
    "res = prod_sca(a, b)\n",
    "if res is not None:\n",
    "    print(\"Le produit scalaire de a et b est :\", res)"
   ]
  },
  {
   "cell_type": "code",
   "execution_count": null,
   "id": "c79dda01-a551-4dfc-ace4-8c3979c12b36",
   "metadata": {},
   "outputs": [],
   "source": []
  }
 ],
 "metadata": {
  "kernelspec": {
   "display_name": "Python 3 (ipykernel)",
   "language": "python",
   "name": "python3"
  },
  "language_info": {
   "codemirror_mode": {
    "name": "ipython",
    "version": 3
   },
   "file_extension": ".py",
   "mimetype": "text/x-python",
   "name": "python",
   "nbconvert_exporter": "python",
   "pygments_lexer": "ipython3",
   "version": "3.11.7"
  }
 },
 "nbformat": 4,
 "nbformat_minor": 5
}
